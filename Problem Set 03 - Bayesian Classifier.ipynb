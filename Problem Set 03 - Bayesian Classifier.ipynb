{
 "cells": [
  {
   "cell_type": "markdown",
   "metadata": {},
   "source": [
    "## EJECUTA ESTA CELDA PARA AUTENTICARTE CON TU CUENTA DE GMAIL"
   ]
  },
  {
   "cell_type": "code",
   "execution_count": null,
   "metadata": {},
   "outputs": [],
   "source": [
    "!sudo /opt/miniconda/bin/pip install httplib2 apiclient oauth2client==1.5.2 ntplib tzlocal gspread google-api-python-client==1.6.2"
   ]
  },
  {
   "cell_type": "code",
   "execution_count": null,
   "metadata": {},
   "outputs": [],
   "source": [
    "from mooclib import *\n",
    "import inspect, urllib\n",
    "html, auth_code, userinfo = google_authenticate(PORT_NUMBER=8888)\n",
    "html"
   ]
  },
  {
   "cell_type": "markdown",
   "metadata": {},
   "source": [
    "## Ejercicio 1: Estimadores\n",
    "\n",
    "completa la función siguiente para que, dado `X` $\\in \\mathbb{R}^{n \\times m}$, un dataframe de Pandas o un array `numpy` con $m$ columnas y $n$ elementos, devuelva dos vectores $\\in \\mathbb{R}^m$\n",
    "\n",
    "- uno con los promedios de cada columna de `X`\n",
    "- uno con las desviaciones estandar de cada columna de `X`\n",
    "\n",
    "#### Ejemplo de ejecución\n",
    "\n",
    "    > d = pd.read_csv(\"data/data_banknote_authentication.txt.gz\")\n",
    "    > print means_stds(d)\n",
    "    > print means_stds(d.values)\n",
    "    \n",
    "    (array([ 0.43373526,  1.92235312,  1.39762712, -1.19165652,  0.44460641]), array([ 2.84172641,  5.86690749,  4.30845909,  2.10024732,  0.49692208]))\n",
    "    (array([ 0.43373526,  1.92235312,  1.39762712, -1.19165652,  0.44460641]), array([ 2.84172641,  5.86690749,  4.30845909,  2.10024732,  0.49692208]))"
   ]
  },
  {
   "cell_type": "code",
   "execution_count": null,
   "metadata": {
    "collapsed": true
   },
   "outputs": [],
   "source": [
    "import pandas as pd\n",
    "import numpy as np\n",
    "\n",
    "def means_stds(X):\n",
    "    # TU CODIGO AQUI\n",
    "    result = ...\n",
    "    return result\n",
    "\n",
    "import urllib, inspect\n",
    "src1 = urllib.quote_plus(inspect.getsource(means_stds))"
   ]
  },
  {
   "cell_type": "code",
   "execution_count": null,
   "metadata": {},
   "outputs": [],
   "source": [
    "# VERIFICA TU CODIGO\n",
    "d = pd.read_csv(\"data/data_banknote_authentication.txt.gz\")\n",
    "print means_stds(d)\n",
    "print means_stds(d.values)"
   ]
  },
  {
   "cell_type": "markdown",
   "metadata": {},
   "source": [
    "#### evaluate your answer before submitting:"
   ]
  },
  {
   "cell_type": "code",
   "execution_count": null,
   "metadata": {},
   "outputs": [],
   "source": [
    "!./run CHECK_SOLUTION PS3_1 $src1"
   ]
  },
  {
   "cell_type": "markdown",
   "metadata": {},
   "source": [
    "#### submit your answer (you must be connected to internet)"
   ]
  },
  {
   "cell_type": "code",
   "execution_count": null,
   "metadata": {
    "collapsed": true
   },
   "outputs": [],
   "source": [
    "!./run SUBMIT_SOLUTION PS3_1 $src1"
   ]
  },
  {
   "cell_type": "markdown",
   "metadata": {},
   "source": [
    "## Ejercicio 2: $\\mu$, $\\sigma$ por clase\n",
    "\n",
    "Completa la función siguiente para que, por cada valor distinto de $y$ devuelva una lista de promedios y desviaciones estandar de cada columna de la porción de $X$ correspondiente a cada valor de y.\n",
    "\n",
    "La función a de devolver dos diccionarios python. Uno con las medias y otro con las desviaciones estandar para cada columna y para cada clave. Cada diccionario tendrá como claves los valores presentes en $y$.\n",
    "\n",
    "#### Ejecución de ejemplo:\n",
    "\n",
    "Para el siguiente $X$ e $y$:\n",
    "\n",
    "          X      y\n",
    "        ------  ---\n",
    "        [7, 8]   2\n",
    "        [1, 9]   1\n",
    "        [2, 4]   0\n",
    "        [7, 3]   2\n",
    "        [8, 8]   1\n",
    "        [6, 6]   1\n",
    "        [8, 0]   0\n",
    "        [6, 9]   1\n",
    "        [3, 5]   0\n",
    "        [1, 8]   1\n",
    "\n",
    "La salida ha de ser:\n",
    "\n",
    "    > m,s = means_stds_perclass(X,y)\n",
    "    > print \"means\", means\n",
    "    > print \"stds \", stds\n",
    "    \n",
    "    means {0: array([ 4.33333333,  3.        ]), 1: array([ 4.4,  8. ]), 2: array([ 7. ,  5.5])}\n",
    "    stds  {0: array([ 2.62466929,  2.1602469 ]), 1: array([ 2.87054002,  1.09544512]), 2: array([ 0. ,  2.5])}"
   ]
  },
  {
   "cell_type": "code",
   "execution_count": null,
   "metadata": {
    "collapsed": true
   },
   "outputs": [],
   "source": [
    "def means_stds_perclass(X,y):\n",
    "    # TU CODIGO AQUI\n",
    "    means = ...\n",
    "    stds  = ...\n",
    "    return means, stds\n",
    "\n",
    "import urllib, inspect\n",
    "src2 = urllib.quote_plus(inspect.getsource(means_stds_perclass))"
   ]
  },
  {
   "cell_type": "code",
   "execution_count": null,
   "metadata": {},
   "outputs": [],
   "source": [
    "# VERIFICA TU CODIGO\n",
    "X = np.array([[7, 8],[1, 9],[2, 4],[7, 3],[8, 8],[6, 6],[8, 0],[6, 9],[3, 5],[1, 8]])\n",
    "y = np.array([2, 1, 0, 2, 1, 1, 0, 1, 0, 1])\n",
    "m,s = means_stds_perclass(X,y)\n",
    "print \"means\", means\n",
    "print \"stds \", stds"
   ]
  },
  {
   "cell_type": "markdown",
   "metadata": {},
   "source": [
    "#### evaluate your answer before submitting:"
   ]
  },
  {
   "cell_type": "code",
   "execution_count": null,
   "metadata": {},
   "outputs": [],
   "source": [
    "!./run CHECK_SOLUTION PS3_2 $src2"
   ]
  },
  {
   "cell_type": "markdown",
   "metadata": {},
   "source": [
    "#### submit your answer (you must be connected to internet)"
   ]
  },
  {
   "cell_type": "code",
   "execution_count": null,
   "metadata": {
    "collapsed": true
   },
   "outputs": [],
   "source": [
    "!./run SUBMIT_SOLUTION PS3_2 $src2"
   ]
  },
  {
   "cell_type": "markdown",
   "metadata": {},
   "source": [
    "## Ejercicio 3: Probabilidad conjunta para una clase\n",
    "\n",
    "completa la función siguiente para que dado\n",
    "\n",
    "- $X \\in \\mathbb{R}^{n\\times m}$ = $\\{ x_1, ..., x_n\\}$, con $x_i \\in \\mathbb{R}^m$ = $\\{x_{i,1},...,x_{i,m}\\}$\n",
    "- $m \\in \\mathbb{R}^m$ un vector con un $\\mu$ para cada columna de $X$\n",
    "- $s \\in \\mathbb{R}^m$ un vector con un $\\sigma$ para cada columna de $X$\n",
    "\n",
    "devuelva un vector $P \\in\\mathbb{R}^{n}$ = $\\{p_1,...,p_n\\}$\n",
    "\n",
    "de forma que:\n",
    "\n",
    "$$p_i = \\prod_{k=1}^m P_{\\mu_k,\\sigma_k}(x_{i,k})$$\n",
    "\n",
    "en donde\n",
    "\n",
    "$P_{\\mu_k,\\sigma_k}(x_{i,k})$ es la probabilidad de $x_{i,k}$ según una distribución normal con media $\\mu_k$ y desviación estándar $\\sigma_k$\n",
    "\n",
    "El resultado ha de ser un array numpy\n",
    "\n",
    "#### Ejecución de ejemplo\n",
    "\n",
    "Para $X$ como en el ejemplo del ejercicio anterior y $m=[4,5]$ y $s=[4,2]$ el resultado debería de ser el siguiente:\n",
    "\n",
    "    > prob(X, m, s)\n",
    "\n",
    "    array([ 0.00487532,  0.00203234,  0.01549375,  0.00910831,  0.00391743,\n",
    "            0.01549375,  0.00053017,  0.00237604,  0.01928228,  0.00487532])\n",
    "            \n",
    "**Sugerencia**: usa el método `pdf` de [`scipy.stats.norm`](https://docs.scipy.org/doc/scipy/reference/generated/scipy.stats.norm.html) para calcular $P_{\\mu_k,\\sigma_k}(x_{i,k})$"
   ]
  },
  {
   "cell_type": "code",
   "execution_count": null,
   "metadata": {
    "collapsed": true
   },
   "outputs": [],
   "source": [
    "def prob(X, m, s):\n",
    "    import scipy.stats as stats\n",
    "    \n",
    "    # TU CODIGO AQUI\n",
    "    result = ...\n",
    "    \n",
    "    return result\n",
    "\n",
    "import urllib, inspect\n",
    "src3 = urllib.quote_plus(inspect.getsource(prob))"
   ]
  },
  {
   "cell_type": "code",
   "execution_count": null,
   "metadata": {},
   "outputs": [],
   "source": [
    "X = np.array([[7, 8],[1, 9],[2, 4],[7, 3],[8, 8],[6, 6],[8, 0],[6, 9],[3, 5],[1, 8]])\n",
    "y = np.array([2, 1, 0, 2, 1, 1, 0, 1, 0, 1])\n",
    "m = np.r_[4,5]\n",
    "s = np.r_[4,2]\n",
    "prob(X, m, s)"
   ]
  },
  {
   "cell_type": "markdown",
   "metadata": {},
   "source": [
    "#### evaluate your answer before submitting:"
   ]
  },
  {
   "cell_type": "code",
   "execution_count": null,
   "metadata": {},
   "outputs": [],
   "source": [
    "!./run CHECK_SOLUTION PS3_3 $src3"
   ]
  },
  {
   "cell_type": "markdown",
   "metadata": {},
   "source": [
    "#### submit your answer (you must be connected to internet)"
   ]
  },
  {
   "cell_type": "code",
   "execution_count": null,
   "metadata": {
    "collapsed": true
   },
   "outputs": [],
   "source": [
    "!./run SUBMIT_SOLUTION PS3_3 $src3"
   ]
  },
  {
   "cell_type": "markdown",
   "metadata": {},
   "source": [
    "## Ejercicio 4: Cálculo de la proporcion de elementos de cada clase\n",
    "\n",
    "Completa la función siguiente para que, dado un $y$, devuelva un diccionario con la proporcion de elementos existentes para cada valor distinto de $y$\n",
    "\n",
    "#### Ejecución de ejemplo\n",
    "\n",
    "    > y = [2 1 0 2 1 1 0 1 0 1]\n",
    "    > props(y)\n",
    "    \n",
    "    {0:0.3, 1:0.5, 2:0.2}"
   ]
  },
  {
   "cell_type": "code",
   "execution_count": null,
   "metadata": {
    "collapsed": true
   },
   "outputs": [],
   "source": [
    "def props(y):\n",
    "    # TU CODIGO AQUI\n",
    "    result = ...\n",
    "    return result\n",
    "\n",
    "import urllib, inspect\n",
    "src4 = urllib.quote_plus(inspect.getsource(props))"
   ]
  },
  {
   "cell_type": "code",
   "execution_count": null,
   "metadata": {},
   "outputs": [],
   "source": [
    "# VERIFICA TU CODIGO\n",
    "y = np.array([2, 1, 0, 2, 1, 1, 0, 1, 0, 1])\n",
    "print props(y)"
   ]
  },
  {
   "cell_type": "markdown",
   "metadata": {},
   "source": [
    "#### evaluate your answer before submitting:"
   ]
  },
  {
   "cell_type": "code",
   "execution_count": null,
   "metadata": {},
   "outputs": [],
   "source": [
    "!./run CHECK_SOLUTION PS3_4 $src4"
   ]
  },
  {
   "cell_type": "markdown",
   "metadata": {},
   "source": [
    "#### submit your answer (you must be connected to internet)"
   ]
  },
  {
   "cell_type": "code",
   "execution_count": null,
   "metadata": {
    "collapsed": true
   },
   "outputs": [],
   "source": [
    "!./run SUBMIT_SOLUTION PS3_4 $src4"
   ]
  },
  {
   "cell_type": "markdown",
   "metadata": {},
   "source": [
    "## Ejercicio 5: Clase API sklearn\n",
    "\n",
    "ensambla las funciones de los ejercicios anteriores en una clase conforme al API de machine learning de sklearn según se describe en el código siguiente.\n",
    "\n",
    "#### Ejecución de ejemplo\n",
    "\n",
    "El siguiente código\n",
    "\n",
    "    > X = np.array([[7, 8],[1, 9],[2, 4],[7, 3],[8, 8],[6, 6],[8, 0],[6, 9],[3, 5],[1, 8]])\n",
    "    > y = np.array([1, 1, 0, 1, 0, 1, 0, 1, 0, 1])\n",
    "\n",
    "    > b = Bayes()\n",
    "    > b.fit(X,y)\n",
    "    > print b.predict(X)\n",
    "    > print b.score(X,y)\n",
    "    \n",
    "debe de arrojar el siguiente resultado\n",
    "\n",
    "    [1 1 0 0 1 1 0 1 1 1]\n",
    "    0.7  "
   ]
  },
  {
   "cell_type": "code",
   "execution_count": null,
   "metadata": {
    "collapsed": true
   },
   "outputs": [],
   "source": [
    "def Bayes(**args): # hack for inspect to work with classes\n",
    "    from scipy.optimize import minimize\n",
    "    import numpy as np\n",
    "    \n",
    "    class Bayes_class:\n",
    "        def fit(self, X, y):\n",
    "            \n",
    "            # TU CODIGO AQUI\n",
    "            self.means = ...\n",
    "            self.stds  = ...\n",
    "            self.props = ...\n",
    "\n",
    "        def predict(self, X):\n",
    "            \n",
    "            # TU CODIGO AQUI\n",
    "            # usa el código del ejercicio 4 para elegir, para cada fila de X, \n",
    "            # la clase que mas probabilidad tenga.\n",
    "            \n",
    "            predictions = ...\n",
    "            \n",
    "            return predictions\n",
    "                \n",
    "        def score(self, X, y):\n",
    "            return np.mean(y==self.predict(X))\n",
    "        \n",
    "    return Bayes_class(**args)\n",
    "\n",
    "import urllib, inspect\n",
    "src5 = urllib.quote_plus(inspect.getsource(Bayes))"
   ]
  },
  {
   "cell_type": "code",
   "execution_count": null,
   "metadata": {},
   "outputs": [],
   "source": [
    "# VERIFICA TU CODIGO\n",
    "\n",
    "X = np.array([[7, 8],[1, 9],[2, 4],[7, 3],[8, 8],[6, 6],[8, 0],[6, 9],[3, 5],[1, 8]])\n",
    "y = np.array([1, 1, 0, 1, 0, 1, 0, 1, 0, 1])\n",
    "\n",
    "b = Bayes()\n",
    "b.fit(X,y)\n",
    "print \"mi codigo\"\n",
    "print b.predict(X)\n",
    "print b.score(X,y)\n",
    "\n",
    "from sklearn.naive_bayes import GaussianNB\n",
    "g = GaussianNB()\n",
    "g.fit(X,y)\n",
    "print \"\\nsklearn\"\n",
    "print g.predict(X)\n",
    "print g.score(X,y)"
   ]
  },
  {
   "cell_type": "markdown",
   "metadata": {},
   "source": [
    "#### evaluate your answer before submitting:"
   ]
  },
  {
   "cell_type": "code",
   "execution_count": null,
   "metadata": {},
   "outputs": [],
   "source": [
    "!./run CHECK_SOLUTION PS3_5 $src5"
   ]
  },
  {
   "cell_type": "markdown",
   "metadata": {},
   "source": [
    "#### submit your answer (you must be connected to internet)"
   ]
  },
  {
   "cell_type": "code",
   "execution_count": null,
   "metadata": {
    "collapsed": true
   },
   "outputs": [],
   "source": [
    "!./run SUBMIT_SOLUTION PS3_5 $src5"
   ]
  }
 ],
 "metadata": {
  "kernelspec": {
   "display_name": "Python 2",
   "language": "python",
   "name": "python2"
  },
  "language_info": {
   "codemirror_mode": {
    "name": "ipython",
    "version": 2
   },
   "file_extension": ".py",
   "mimetype": "text/x-python",
   "name": "python",
   "nbconvert_exporter": "python",
   "pygments_lexer": "ipython2",
   "version": "2.7.14"
  }
 },
 "nbformat": 4,
 "nbformat_minor": 2
}
