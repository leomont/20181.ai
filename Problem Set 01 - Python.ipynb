{
 "cells": [
  {
   "cell_type": "markdown",
   "metadata": {},
   "source": [
    "## Problem Set 01 Introducción a Python\n",
    "\n",
    "## EJECUTA ESTA CELDA PARA AUTENTICARTE CON TU CUENTA DE GMAIL"
   ]
  },
  {
   "cell_type": "code",
   "execution_count": null,
   "metadata": {},
   "outputs": [],
   "source": [
    "!sudo /opt/miniconda/bin/pip install httplib2 apiclient oauth2client==1.5.2 ntplib tzlocal gspread google-api-python-client==1.6.2"
   ]
  },
  {
   "cell_type": "code",
   "execution_count": null,
   "metadata": {},
   "outputs": [],
   "source": [
    "from mooclib import *\n",
    "import inspect, urllib\n",
    "html, auth_code, userinfo = google_authenticate(PORT_NUMBER=8111)\n",
    "html"
   ]
  },
  {
   "cell_type": "markdown",
   "metadata": {},
   "source": [
    "## <font style=\"color: red\"> Esta práctica contiene 4 ejercicios <!-- ONLY IN NOTEBOOK -->"
   ]
  },
  {
   "cell_type": "markdown",
   "metadata": {},
   "source": [
    "### Ejercicio 1: Generación de una matriz"
   ]
  },
  {
   "cell_type": "markdown",
   "metadata": {},
   "source": [
    "Completa la función `single_value_matrix` para que devuelva una matriz de tamaño $n\\_rows \\times n\\_cols$ con todos los elementos igual a $value$. Ejecuta y depura tu código con entradas de prueba, verifica que la salida es la esperada y prueba con nuevos valores.\n",
    "\n",
    "#### Ejemplo de ejecución\n",
    "\n",
    "    > single_value_matrix(n_rows=3, n_cols=4, value=5)\n",
    "    \n",
    "      [[ 5.  5.  5.  5.]\n",
    "       [ 5.  5.  5.  5.]\n",
    "       [ 5.  5.  5.  5.]]\n",
    "     \n",
    "_Sugerencia_: Usa la función `np.ones` de Numpy [[ref](http://docs.scipy.org/doc/numpy/reference/generated/numpy.ones.html)]"
   ]
  },
  {
   "cell_type": "code",
   "execution_count": null,
   "metadata": {
    "collapsed": true
   },
   "outputs": [],
   "source": [
    "import numpy as np\n",
    "\n",
    "def single_value_matrix(n_rows, n_cols, value):\n",
    "    ## --- TU CODIGO AQUI ---\n",
    "    result = ???\n",
    "    return result\n",
    "\n",
    "import urllib, inspect\n",
    "src1 = urllib.quote_plus(inspect.getsource(single_value_matrix))"
   ]
  },
  {
   "cell_type": "code",
   "execution_count": null,
   "metadata": {},
   "outputs": [],
   "source": [
    "# -- VERIFICA TU CODIGO --\n",
    "print single_value_matrix(n_rows=3, n_cols=4, value=5)\n",
    "print single_value_matrix(n_rows=4, n_cols=2, value=3.45)"
   ]
  },
  {
   "cell_type": "markdown",
   "metadata": {},
   "source": [
    "#### evaluate your answer before submitting:"
   ]
  },
  {
   "cell_type": "code",
   "execution_count": null,
   "metadata": {},
   "outputs": [],
   "source": [
    "!./run CHECK_SOLUTION PS1_1 $src1"
   ]
  },
  {
   "cell_type": "markdown",
   "metadata": {},
   "source": [
    "#### submit your answer (you must be connected to internet)"
   ]
  },
  {
   "cell_type": "code",
   "execution_count": null,
   "metadata": {},
   "outputs": [],
   "source": [
    "!./run SUBMIT_SOLUTION PS1_1 $src1"
   ]
  },
  {
   "cell_type": "markdown",
   "metadata": {},
   "source": [
    "### Ejercicio 2: Suma de diferencias cuadradas de matrices"
   ]
  },
  {
   "cell_type": "markdown",
   "metadata": {},
   "source": [
    "Dadas dos matrices de igual tamaño, $A \\in \\mathbb{R}^{m\\times n}$ y $B \\in \\mathbb{R}^{m\\times n}$ la suma de las diferencias cuadradas entre los elementos de la matriz se define por:\n",
    "\n",
    "\n",
    "$$sum\\_squared\\_difference(A,B) = \\sum_{i=0}^m \\sum_{j=0}^n (a_{ij} - b_{ij})^2$$\n",
    "\n",
    "\n",
    "donde $a_{ij}$ es el elemento de la fila $i$ y columna $j$ de la matriz $A$. Completa la función `sum_squared_difference` con esta definición.\n",
    "\n",
    "\n",
    "#### Ejemplo de ejecución\n",
    "\n",
    "    > A = np.array([[1,2],[3,4]])\n",
    "    > B = np.array([[0,3],[4,6]])\n",
    "    > sum_squared_difference(A,B)\n",
    "    \n",
    "      7\n",
    "      \n",
    "_Sugerencia_ Usa la función `np.sum` de Numpy [[ref](http://docs.scipy.org/doc/numpy/reference/generated/numpy.sum.html)]"
   ]
  },
  {
   "cell_type": "code",
   "execution_count": null,
   "metadata": {
    "collapsed": true
   },
   "outputs": [],
   "source": [
    "import numpy as np\n",
    "\n",
    "def sum_squared_difference(A,B):\n",
    "    ## --- TU CODIGO AQUI ---\n",
    "    result = ???\n",
    "    return result\n",
    "\n",
    "import urllib, inspect\n",
    "src2 = urllib.quote_plus(inspect.getsource(sum_squared_difference))"
   ]
  },
  {
   "cell_type": "code",
   "execution_count": null,
   "metadata": {
    "collapsed": true
   },
   "outputs": [],
   "source": [
    "# VERIFICA TU CODIGO\n",
    "A = np.array([[1,2],[3,4]])\n",
    "B = np.array([[0,3],[4,6]])\n",
    "print sum_squared_difference(A,B)"
   ]
  },
  {
   "cell_type": "markdown",
   "metadata": {},
   "source": [
    "#### evaluate your answer before submitting:"
   ]
  },
  {
   "cell_type": "code",
   "execution_count": null,
   "metadata": {
    "collapsed": true
   },
   "outputs": [],
   "source": [
    "!./run CHECK_SOLUTION PS1_2 $src2"
   ]
  },
  {
   "cell_type": "code",
   "execution_count": null,
   "metadata": {
    "collapsed": true
   },
   "outputs": [],
   "source": [
    "!./run SUBMIT_SOLUTION PS1_2 $src2"
   ]
  },
  {
   "cell_type": "markdown",
   "metadata": {},
   "source": [
    "### Ejercicio 3: Pandas Dataframe"
   ]
  },
  {
   "cell_type": "markdown",
   "metadata": {},
   "source": [
    "Completa la función `create_dataframe` para que dado un numpy array `A` como argumento:\n",
    "\n",
    "- devuelva un dataframe de pandas con los contenidos de `A`\n",
    "- las columnas del dataframe han de llamarse `col_1`, `col_2`, etc.\n",
    "- los índices del mismo han de ser consecutivos empezando en el número 100.\n",
    "- el dataframe ha de incluir una columna adicional llamada `promedio` que contenga, para cada fila de `A`, el promedio de sus elementos.\n",
    "\n",
    "\n",
    "**Ejemplo de ejecución**\n",
    "    > A = np.array([[1,2,3],[3,4,5]])\n",
    "    > create_dataframe(A)\n",
    "    \n",
    "|   | col_1  |  col_2 | col_3  | promedio  |\n",
    "|---|---|---|---|---|\n",
    "|100   | 1  |  2 | 3  |  2.0 |\n",
    "|101   | 3  |  4 |  5 |   4.0 |"
   ]
  },
  {
   "cell_type": "code",
   "execution_count": null,
   "metadata": {
    "collapsed": true
   },
   "outputs": [],
   "source": [
    "def create_dataframe(A):\n",
    "    import numpy as np\n",
    "    import pandas as pd\n",
    "    \n",
    "    # TU CODIGO AQUI ----\n",
    "    columns = ???\n",
    "    result  = ???\n",
    "    return result\n",
    "\n",
    "import urllib, inspect\n",
    "src3 = urllib.quote_plus(inspect.getsource(create_dataframe))"
   ]
  },
  {
   "cell_type": "code",
   "execution_count": null,
   "metadata": {
    "collapsed": true
   },
   "outputs": [],
   "source": [
    "## VERIFICA TU CODIGO\n",
    "A = np.array([[1,2,3],[3,4,5]])\n",
    "create_dataframe(A)"
   ]
  },
  {
   "cell_type": "markdown",
   "metadata": {},
   "source": [
    "#### evaluate your answer before submitting:"
   ]
  },
  {
   "cell_type": "code",
   "execution_count": null,
   "metadata": {},
   "outputs": [],
   "source": [
    "!./run CHECK_SOLUTION PS1_3 $src3"
   ]
  },
  {
   "cell_type": "markdown",
   "metadata": {},
   "source": [
    "#### submit your answer (you must be connected to internet)"
   ]
  },
  {
   "cell_type": "code",
   "execution_count": null,
   "metadata": {
    "collapsed": true
   },
   "outputs": [],
   "source": [
    "!./run SUBMIT_SOLUTION PS1_3 $src3"
   ]
  },
  {
   "cell_type": "markdown",
   "metadata": {},
   "source": [
    "### Ejercicio 4: Pandas group by\n"
   ]
  },
  {
   "cell_type": "markdown",
   "metadata": {},
   "source": [
    "completa la función siguiente para que, dado un dataframe A:\n",
    "    \n",
    "- agrupe los valores por la columns `col1`.\n",
    "- por cada columna restante calcule la media y la desviación estandar de los grupos resultantes.\n",
    "\n",
    "**Ejecución de ejemplo**\n",
    "\n",
    "    A = \n",
    "\n",
    "|   | col_1  |  col_2 | col_3  |\n",
    "|---|---|---|---|\n",
    "|0   | 0  |  1 |  0 |  \n",
    "|1   | 3  |  3 |  3 |  \n",
    "|2   | 1  |  3 |  3 |  \n",
    "|3   | 0  |  1 |  3 |  \n",
    "|4   | 3  |  1 |  2 |  \n",
    "\n",
    "\n",
    "    > group_agg(A)\n",
    "   \n",
    " \n",
    "|  col1     | col_2<br/>mean |  <br/>std    | col_3<br/>mean |<br/>std     |\n",
    "|---|---|---|---|---|\n",
    "|0   | 1  |  0.000000 |  1.5 | 2.121320|  \n",
    "|1   | 3  |  NaN  |  3.0 | NaN |  \n",
    "|3   | 2  |  1.414214 |  2.5 | 0.707107|  \n",
    "\n",
    "**HINT**: Fíjate en el ejemplo de la función `agg` de `groupby` de [la documentación en línea](https://pandas.pydata.org/pandas-docs/stable/generated/pandas.core.groupby.DataFrameGroupBy.agg.html) y usa las funciones de numpy `np.mean` y `np.std`"
   ]
  },
  {
   "cell_type": "code",
   "execution_count": null,
   "metadata": {
    "collapsed": true
   },
   "outputs": [],
   "source": [
    "def group_agg(A):\n",
    "    ## --- TU CODIGO AQUI ---\n",
    "    result = ???\n",
    "    return result\n",
    "\n",
    "import urllib, inspect\n",
    "src4 = urllib.quote_plus(inspect.getsource(group_agg))"
   ]
  },
  {
   "cell_type": "code",
   "execution_count": null,
   "metadata": {
    "collapsed": true
   },
   "outputs": [],
   "source": [
    "# VERIFICA TU CODIGO\n",
    "A = pd.DataFrame(np.array([[0,1,0],[3,3,3],[1,3,3],[0,1,3],[3,1,2]]), columns=[\"col1\", \"col2\", \"col3\"])\n",
    "group_agg(A)"
   ]
  },
  {
   "cell_type": "markdown",
   "metadata": {},
   "source": [
    "#### evaluate your answer before submitting:"
   ]
  },
  {
   "cell_type": "code",
   "execution_count": null,
   "metadata": {},
   "outputs": [],
   "source": [
    "!./run CHECK_SOLUTION PS1_4 $src4"
   ]
  },
  {
   "cell_type": "markdown",
   "metadata": {},
   "source": [
    "#### submit your answer (you must be connected to internet)"
   ]
  },
  {
   "cell_type": "code",
   "execution_count": null,
   "metadata": {
    "collapsed": true
   },
   "outputs": [],
   "source": [
    "!./run SUBMIT_SOLUTION PS1_4 $src4"
   ]
  }
 ],
 "metadata": {
  "anaconda-cloud": {},
  "kernelspec": {
   "display_name": "Python 2",
   "language": "python",
   "name": "python2"
  },
  "language_info": {
   "codemirror_mode": {
    "name": "ipython",
    "version": 2
   },
   "file_extension": ".py",
   "mimetype": "text/x-python",
   "name": "python",
   "nbconvert_exporter": "python",
   "pygments_lexer": "ipython2",
   "version": "2.7.14"
  },
  "toc": {
   "toc_cell": false,
   "toc_number_sections": false,
   "toc_threshold": 6,
   "toc_window_display": false
  }
 },
 "nbformat": 4,
 "nbformat_minor": 2
}
